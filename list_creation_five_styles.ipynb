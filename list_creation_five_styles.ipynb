{
  "cells": [
    {
      "cell_type": "markdown",
      "metadata": {
        "id": "view-in-github",
        "colab_type": "text"
      },
      "source": [
        "<a href=\"https://colab.research.google.com/github/vazanthan/Algorithms/blob/master/list_creation_five_styles.ipynb\" target=\"_parent\"><img src=\"https://colab.research.google.com/assets/colab-badge.svg\" alt=\"Open In Colab\"/></a>"
      ]
    },
    {
      "cell_type": "code",
      "execution_count": null,
      "id": "b4662c88",
      "metadata": {
        "colab": {
          "base_uri": "https://localhost:8080/"
        },
        "id": "b4662c88",
        "outputId": "5f551692-0e56-432e-bdd2-13b2994297f3"
      },
      "outputs": [
        {
          "output_type": "stream",
          "name": "stdout",
          "text": [
            "[34, 56, 77, 99, 87, 100]\n"
          ]
        }
      ],
      "source": [
        "newlist = [34,56,77,99,87,100]\n",
        "print(newlist)"
      ]
    },
    {
      "cell_type": "code",
      "execution_count": null,
      "id": "9baa5926",
      "metadata": {
        "colab": {
          "base_uri": "https://localhost:8080/"
        },
        "id": "9baa5926",
        "outputId": "69c1ca45-f98d-4180-8fb4-a8dd07046f49"
      },
      "outputs": [
        {
          "output_type": "stream",
          "name": "stdout",
          "text": [
            "[34, 56, 77, 99, 87, 100]\n"
          ]
        }
      ],
      "source": [
        "listone = list([34,56,77,99,87,100])\n",
        "print(listone)"
      ]
    },
    {
      "cell_type": "code",
      "execution_count": null,
      "id": "53f0ea01",
      "metadata": {
        "colab": {
          "base_uri": "https://localhost:8080/"
        },
        "id": "53f0ea01",
        "outputId": "d55ab64a-f70e-4499-e4c6-8e63096da137"
      },
      "outputs": [
        {
          "output_type": "stream",
          "name": "stdout",
          "text": [
            "[]\n"
          ]
        }
      ],
      "source": [
        "listtwo = list()\n",
        "print(listtwo)"
      ]
    },
    {
      "cell_type": "code",
      "execution_count": null,
      "id": "f0fec251",
      "metadata": {
        "colab": {
          "base_uri": "https://localhost:8080/"
        },
        "id": "f0fec251",
        "outputId": "f1dd03e9-f42e-4506-e83d-d2383778878d"
      },
      "outputs": [
        {
          "output_type": "stream",
          "name": "stdout",
          "text": [
            "[34, 56, 77, 99, 87, 100]\n"
          ]
        }
      ],
      "source": [
        "listtwo.append(34)\n",
        "listtwo.append(56)\n",
        "listtwo.append(77)\n",
        "listtwo.append(99)\n",
        "listtwo.append(87)\n",
        "listtwo.append(100)\n",
        "print(listtwo)"
      ]
    },
    {
      "cell_type": "raw",
      "id": "67997884",
      "metadata": {
        "id": "67997884"
      },
      "source": [
        "What is the difference between list creation using [] and using list() ?\n",
        "\n",
        "new = [1.2.3]\n",
        "Here new is the variable that points to the [1,2,3], new itself is not the list\n",
        "while list([1,2,3]) is function in python which returns a list\n",
        "\n",
        "[] is faster than list()\n",
        "\n",
        "list() requires a global lookup and a function call but [] compiles to a single instruction\n",
        "list() converts string into a list object while [] creates a list"
      ]
    },
    {
      "cell_type": "code",
      "execution_count": null,
      "id": "c302742e",
      "metadata": {
        "colab": {
          "base_uri": "https://localhost:8080/"
        },
        "id": "c302742e",
        "outputId": "f7451ca9-08bd-4391-d8d2-5121d10564d1"
      },
      "outputs": [
        {
          "output_type": "stream",
          "name": "stdout",
          "text": [
            "[]\n"
          ]
        }
      ],
      "source": [
        "listthree = []\n",
        "print(listthree)"
      ]
    },
    {
      "cell_type": "code",
      "execution_count": null,
      "id": "f8d4e376",
      "metadata": {
        "colab": {
          "base_uri": "https://localhost:8080/"
        },
        "id": "f8d4e376",
        "outputId": "dd39f038-1ee6-487d-98ba-2a1465b19566"
      },
      "outputs": [
        {
          "output_type": "stream",
          "name": "stdout",
          "text": [
            "[45, 66, 77, 91, 29]\n"
          ]
        }
      ],
      "source": [
        "listthree.extend([45,66,77,91,29])\n",
        "print(listthree)"
      ]
    },
    {
      "cell_type": "code",
      "execution_count": null,
      "id": "f307f16b",
      "metadata": {
        "colab": {
          "base_uri": "https://localhost:8080/"
        },
        "id": "f307f16b",
        "outputId": "87b309ad-fda7-4963-853e-924639c24dad"
      },
      "outputs": [
        {
          "output_type": "stream",
          "name": "stdout",
          "text": [
            "[45, 66, 77, 91, 29]\n"
          ]
        }
      ],
      "source": [
        "listfour = []\n",
        "listfour = listthree.copy()\n",
        "print(listfour)"
      ]
    },
    {
      "cell_type": "code",
      "execution_count": null,
      "id": "18e9e854",
      "metadata": {
        "id": "18e9e854"
      },
      "outputs": [],
      "source": []
    }
  ],
  "metadata": {
    "kernelspec": {
      "display_name": "Python 3 (ipykernel)",
      "language": "python",
      "name": "python3"
    },
    "language_info": {
      "codemirror_mode": {
        "name": "ipython",
        "version": 3
      },
      "file_extension": ".py",
      "mimetype": "text/x-python",
      "name": "python",
      "nbconvert_exporter": "python",
      "pygments_lexer": "ipython3",
      "version": "3.10.13"
    },
    "colab": {
      "provenance": [],
      "include_colab_link": true
    }
  },
  "nbformat": 4,
  "nbformat_minor": 5
}